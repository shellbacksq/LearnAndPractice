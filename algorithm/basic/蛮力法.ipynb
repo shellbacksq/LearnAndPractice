{
 "cells": [
  {
   "cell_type": "code",
   "execution_count": 7,
   "metadata": {
    "ExecuteTime": {
     "end_time": "2020-01-04T04:51:40.123530Z",
     "start_time": "2020-01-04T04:51:40.119058Z"
    }
   },
   "outputs": [],
   "source": [
    "nums=[2,4,3,3,6,1,7]"
   ]
  },
  {
   "cell_type": "markdown",
   "metadata": {},
   "source": [
    "## 冒泡排序"
   ]
  },
  {
   "cell_type": "code",
   "execution_count": 8,
   "metadata": {
    "ExecuteTime": {
     "end_time": "2020-01-04T04:51:41.031853Z",
     "start_time": "2020-01-04T04:51:41.024049Z"
    }
   },
   "outputs": [],
   "source": [
    "def bubble_sort(nums):\n",
    "    \"\"\"\n",
    "    1. 相邻位置比较,如果满足条件交换位置\n",
    "    2. 第二次就换到倒数第二个位置就行\n",
    "    \"\"\"\n",
    "    nums_size=len(nums)\n",
    "    for j in range(nums_size-1,0,-1):\n",
    "        for i in range(0,j):\n",
    "            if nums[i]>nums[i+1]:\n",
    "                nums[i+1],nums[i]=nums[i],nums[i+1]\n",
    "    return nums"
   ]
  },
  {
   "cell_type": "code",
   "execution_count": 9,
   "metadata": {
    "ExecuteTime": {
     "end_time": "2020-01-04T04:51:41.740035Z",
     "start_time": "2020-01-04T04:51:41.734970Z"
    }
   },
   "outputs": [
    {
     "name": "stdout",
     "output_type": "stream",
     "text": [
      "[1, 2, 3, 3, 4, 6, 7]\n"
     ]
    }
   ],
   "source": [
    "print(bubble_sort(nums))"
   ]
  },
  {
   "cell_type": "markdown",
   "metadata": {},
   "source": [
    "## 插入排序"
   ]
  },
  {
   "cell_type": "code",
   "execution_count": 24,
   "metadata": {
    "ExecuteTime": {
     "end_time": "2020-01-04T05:11:27.539719Z",
     "start_time": "2020-01-04T05:11:27.530404Z"
    }
   },
   "outputs": [],
   "source": [
    "def insert_sort(nums):\n",
    "    \"\"\"\n",
    "    1.找nums中最小的那个和第一个位置交换.\n",
    "    2.第二次从i+1的位置开始重复1\n",
    "    \"\"\"\n",
    "    nums_size=len(nums)\n",
    "    for i in range(nums_size-1):\n",
    "        min_num=nums[i]\n",
    "        min_num_id=i\n",
    "        for j in range(i+1,nums_size):\n",
    "            if nums[j]<min_num:\n",
    "                min_num=nums[j]\n",
    "                min_num_id=j\n",
    "        if nums[i]>min_num:\n",
    "            nums[i],nums[min_num_id]=nums[min_num_id],nums[i]\n",
    "    return nums"
   ]
  },
  {
   "cell_type": "code",
   "execution_count": 25,
   "metadata": {
    "ExecuteTime": {
     "end_time": "2020-01-04T05:11:27.772862Z",
     "start_time": "2020-01-04T05:11:27.767798Z"
    }
   },
   "outputs": [
    {
     "name": "stdout",
     "output_type": "stream",
     "text": [
      "[1, 2, 3, 3, 4, 6, 7]\n"
     ]
    }
   ],
   "source": [
    "print(insert_sort(nums))"
   ]
  },
  {
   "cell_type": "code",
   "execution_count": null,
   "metadata": {},
   "outputs": [],
   "source": []
  }
 ],
 "metadata": {
  "kernelspec": {
   "display_name": "Python 3",
   "language": "python",
   "name": "python3"
  },
  "language_info": {
   "codemirror_mode": {
    "name": "ipython",
    "version": 3
   },
   "file_extension": ".py",
   "mimetype": "text/x-python",
   "name": "python",
   "nbconvert_exporter": "python",
   "pygments_lexer": "ipython3",
   "version": "3.7.5"
  },
  "toc": {
   "base_numbering": 1,
   "nav_menu": {},
   "number_sections": true,
   "sideBar": true,
   "skip_h1_title": false,
   "title_cell": "Table of Contents",
   "title_sidebar": "Contents",
   "toc_cell": false,
   "toc_position": {},
   "toc_section_display": true,
   "toc_window_display": false
  }
 },
 "nbformat": 4,
 "nbformat_minor": 2
}
